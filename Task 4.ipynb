{
 "cells": [
  {
   "cell_type": "code",
   "execution_count": 1,
   "id": "54d76c23",
   "metadata": {},
   "outputs": [],
   "source": [
    "# Assign movies name to movie variables\n",
    "movies = [\n",
    "    \"Get Out\",\n",
    "    \"Black Panther\",\n",
    "    \"The Social Network\",\n",
    "    \"Inception\",\n",
    "    \"Wonder Woman\"\n",
    "]\n",
    "\n",
    "with open(\"movie.txt\" , \"w\") as movie_file:\n",
    "    for movie in movies:\n",
    "        movie_file.write(movie + \"\\n\")"
   ]
  },
  {
   "cell_type": "code",
   "execution_count": 2,
   "id": "369bbf94",
   "metadata": {},
   "outputs": [],
   "source": [
    "# Assign sports name to sport variables\n",
    "sports = [\n",
    "    \"Football\",\n",
    "    \"Rugby\",\n",
    "    \"Badminton\",\n",
    "    \"Tennis\",\n",
    "    \"Hockey\"\n",
    "]\n",
    "\n",
    "with open(\"sport.txt\", \"w\") as sport_file:\n",
    "    for sport in sports:\n",
    "        sport_file.write(sport + \"\\n\")"
   ]
  },
  {
   "cell_type": "code",
   "execution_count": 3,
   "id": "0ec62d26",
   "metadata": {},
   "outputs": [
    {
     "name": "stdout",
     "output_type": "stream",
     "text": [
      "Movie list:\n",
      "Get Out\n",
      "Black Panther\n",
      "The Social Network\n",
      "Inception\n",
      "Wonder Woman\n",
      "\n"
     ]
    }
   ],
   "source": [
    "# question 1\n",
    "print(\"Movie list:\")\n",
    "with open('movie.txt', 'r') as movie_file:\n",
    "    movie_list = movie_file.read()\n",
    "    print(movie_list)"
   ]
  },
  {
   "cell_type": "code",
   "execution_count": 5,
   "id": "a764ab61",
   "metadata": {},
   "outputs": [
    {
     "name": "stdout",
     "output_type": "stream",
     "text": [
      "Sport list:\n",
      "Football\n",
      "Rugby\n",
      "Badminton\n",
      "Tennis\n",
      "Hockey\n",
      "\n"
     ]
    }
   ],
   "source": [
    "print(\"Sport list:\")\n",
    "with open('sport.txt', 'r') as sport_file:\n",
    "    sport_list = sport_file.read()\n",
    "    print(sport_list)"
   ]
  },
  {
   "cell_type": "code",
   "execution_count": 6,
   "id": "5f371c9e",
   "metadata": {},
   "outputs": [],
   "source": [
    "# quesion 2\n",
    "with open('movie.txt', 'a') as movie_info:\n",
    "    movie_info.write('Movie info:\\n')\n",
    "    movie_info.write('Get Out: Chris decides to visit his Caucasian girlfriend parents during a weekend getaway. Although they seem normal at first, he is not prepared to experience the horrors ahead.\\n')\n",
    "    movie_info.write('Black Panther : After his fathers death, TChalla returns home to Wakanda to inherit his throne. However, a powerful enemy related to his family threatens to attack his nation.\\n')\n",
    "    movie_info.write('The Social Network : Mark Zuckerberg creates a social networking site, Facebook, with his friend Eduardos help. Though it turns out to be a successful venture, he severs ties with several people along the way.\\n')\n",
    "    movie_info.write('Inception : A thief who steals corporate secrets through the use of dream-sharing technology is given the inverse task of planting an idea into the mind of a C.E.O.\\n')\n",
    "    movie_info.write('Wonder Woman : Princess Diana of an all-female Amazonian race rescues US pilot Steve. Upon learning of a war, she ventures into the world of men to stop Ares, the god of war, from destroying mankind.\\n')\n",
    "    "
   ]
  },
  {
   "cell_type": "code",
   "execution_count": 7,
   "id": "024766e2",
   "metadata": {},
   "outputs": [],
   "source": [
    "with open('sport.txt', 'a') as sport_info:\n",
    "    sport_info.write('Sport info:\\n')\n",
    "    sport_info.write('Football : Football is a family of team sports that involve, to varying degrees, kicking a ball to score a goal.\\n')\n",
    "    sport_info.write('Rugby : Rugby is a game played with an oval ball by two teams of 15 players or 13 players.\\n')\n",
    "    sport_info.write('Badminton : Badminton is a racquet sport played using racquets to hit a shuttlecock across a net. Although it may be played with larger teams, the most common forms of the game are singles and doubles.\\n')\n",
    "    sport_info.write('Tennis : Tennis is a racket sport that is played either individually against a single opponent or between two teams of two players each.\\n')\n",
    "    sport_info.write('Hockey : Ice hockey is a team sport played on ice skates, usually on an ice skating rink with lines and markings specific to the sport. It belongs to a family of sports called hockey.\\n')"
   ]
  },
  {
   "cell_type": "code",
   "execution_count": 8,
   "id": "d8d7ffae",
   "metadata": {},
   "outputs": [
    {
     "name": "stdout",
     "output_type": "stream",
     "text": [
      "Get Out\n",
      "Black Panther\n",
      "The Social Network\n",
      "Inception\n",
      "Wonder Woman\n",
      "Movie info:\n",
      "Get Out: Chris decides to visit his Caucasian girlfriend parents during a weekend getaway. Although they seem normal at first, he is not prepared to experience the horrors ahead.\n",
      "Black Panther : After his fathers death, TChalla returns home to Wakanda to inherit his throne. However, a powerful enemy related to his family threatens to attack his nation.\n",
      "The Social Network : Mark Zuckerberg creates a social networking site, Facebook, with his friend Eduardos help. Though it turns out to be a successful venture, he severs ties with several people along the way.\n",
      "Inception : A thief who steals corporate secrets through the use of dream-sharing technology is given the inverse task of planting an idea into the mind of a C.E.O.\n",
      "Wonder Woman : Princess Diana of an all-female Amazonian race rescues US pilot Steve. Upon learning of a war, she ventures into the world of men to stop Ares, the god of war, from destroying mankind.\n",
      "\n",
      "Football\n",
      "Rugby\n",
      "Badminton\n",
      "Tennis\n",
      "Hockey\n",
      "Sport info:\n",
      "Football : Football is a family of team sports that involve, to varying degrees, kicking a ball to score a goal.\n",
      "Rugby : Rugby is a game played with an oval ball by two teams of 15 players or 13 players.\n",
      "Badminton : Badminton is a racquet sport played using racquets to hit a shuttlecock across a net. Although it may be played with larger teams, the most common forms of the game are singles and doubles.\n",
      "Tennis : Tennis is a racket sport that is played either individually against a single opponent or between two teams of two players each.\n",
      "Hockey : Ice hockey is a team sport played on ice skates, usually on an ice skating rink with lines and markings specific to the sport. It belongs to a family of sports called hockey.\n",
      "\n"
     ]
    }
   ],
   "source": [
    "# question 3\n",
    "try:\n",
    "    with open('movie.txt', 'r') as movie_file:\n",
    "        movie_list = movie_file.read()\n",
    "        print(movie_list)\n",
    "    \n",
    "    with open('sport.txt', 'r') as sport_file:\n",
    "        sport_list = sport_file.read()\n",
    "        print(sport_list) \n",
    "\n",
    "except FileNotFoundError:\n",
    "    print(\"File not found. Please recheck file location.\")"
   ]
  },
  {
   "cell_type": "code",
   "execution_count": null,
   "id": "e87c8dcf",
   "metadata": {},
   "outputs": [],
   "source": []
  }
 ],
 "metadata": {
  "kernelspec": {
   "display_name": "Python 3 (ipykernel)",
   "language": "python",
   "name": "python3"
  },
  "language_info": {
   "codemirror_mode": {
    "name": "ipython",
    "version": 3
   },
   "file_extension": ".py",
   "mimetype": "text/x-python",
   "name": "python",
   "nbconvert_exporter": "python",
   "pygments_lexer": "ipython3",
   "version": "3.11.5"
  }
 },
 "nbformat": 4,
 "nbformat_minor": 5
}
