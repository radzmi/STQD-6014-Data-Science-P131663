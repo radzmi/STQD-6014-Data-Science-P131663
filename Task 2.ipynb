{
 "cells": [
  {
   "cell_type": "code",
   "execution_count": 1,
   "id": "3e4fee8a",
   "metadata": {},
   "outputs": [],
   "source": [
    "class Bankaccount:\n",
    "    def __init__(self,username,full_name,ic_number,city,telephone_number,initial_saving):\n",
    "        self.username = username\n",
    "        self.full_name = full_name\n",
    "        self.ic_number = ic_number\n",
    "        self.city = city\n",
    "        self.telephone_number = telephone_number\n",
    "        self.min_balance = 20\n",
    "        if initial_saving < self.min_balance:\n",
    "            print(\"Initial savings less tham minimum balance.\")\n",
    "            self.initial_saving = self.min_balance\n",
    "        else:\n",
    "            self.initial_saving = initial_saving\n",
    "        self.current_balance = self.initial_saving\n",
    "            \n",
    "# Adding deposit and withdrawal\n",
    "    def deposit(self,amount):\n",
    "        self.current_balance += amount\n",
    "    \n",
    "    def withdraw(self,amount):\n",
    "        if self.current_balance - amount >= self.min_balance:\n",
    "            self.current_balance -= amount\n",
    "            print(\"Withdrawal succesfull. Remaining balance = RM {self.current_balance} \")\n",
    "        else:\n",
    "            print(\"Withdrawal failed.\")\n",
    "    \n",
    "    def check_balance(self):\n",
    "        print(f\"Current balance: RM {self.current_balance}\")\n",
    "    \n",
    "    def close_account(self):\n",
    "        self.current_balance = 0\n",
    "        print(\"Account closed.\")\n"
   ]
  },
  {
   "cell_type": "code",
   "execution_count": 2,
   "id": "5919ee5c",
   "metadata": {},
   "outputs": [],
   "source": [
    "# Creating child class\n",
    "class Childbankaccount(Bankaccount):\n",
    "    def __init__(self,username,full_name,ic_number,city,telephone_number, initial_saving,parent_username):\n",
    "      super().__init__(username, full_name, ic_number, city, telephone_number, initial_saving) \n",
    "      self.parent_username = parent_username"
   ]
  },
  {
   "cell_type": "code",
   "execution_count": 3,
   "id": "4a5059a4",
   "metadata": {},
   "outputs": [],
   "source": [
    "parent1 = Bankaccount(\"user1\", \"Jennie Farrell\", \"1234567890\", \"Raunds\", \"123456789\", 100)\n",
    "parent2 = Bankaccount(\"user2\", \"Jermaine Richmond\", \"2345678901\", \"Royal Tunbridge Wells\", \"987654321\", 150)\n",
    "parent3 = Bankaccount(\"user3\", \"Ariana Stone\", \"3456789012\", \"Lower Southampton\", \"876543210\", 200)\n",
    "parent4 = Bankaccount(\"user4\", \"Flynn Levy\", \"4567890123\", \"Long Sutton\", \"765432109\", 80)\n",
    "parent5 = Bankaccount(\"user5\", \"Virginia Harris\", \"5678901234\", \"Swansea\", \"654321098\", 120)\n",
    "\n",
    "# Creating instances of ChildBankAccount (child accounts)\n",
    "child1 = Childbankaccount(\"child1\", \"Fatma Tapia\", \"6789012345\", \"Winchelsea\", \"543210987\", 50, \"user1\")\n",
    "child2 = Childbankaccount(\"child2\", \"Fatimah Livingston\", \"7890123456\", \"Newcastle\", \"432109876\", 70, \"user2\")\n",
    "child3 = Childbankaccount(\"child3\", \"Bertie Banks\", \"8901234567\", \"Morecambe\", \"321098765\", 30, \"user3\")\n",
    "child4 = Childbankaccount(\"child4\", \"Kimberly Oliver\", \"9012345678\", \"Manningtree \", \"210987654\", 40, \"user4\")\n",
    "child5 = Childbankaccount(\"child5\", \"Markus Sears\", \"0123456789\", \"Hartlepool\", \"109876543\", 60, \"user5\")"
   ]
  },
  {
   "cell_type": "code",
   "execution_count": 4,
   "id": "f74bb790",
   "metadata": {},
   "outputs": [
    {
     "name": "stdout",
     "output_type": "stream",
     "text": [
      "Account Info for Jennie Farrell:\n",
      "Username: user1\n",
      "Current balance: RM 100\n",
      "Withdrawal succesfull. Remaining balance = RM {self.current_balance} \n",
      "Account closed.\n",
      "\n",
      "Account Info for Jermaine Richmond:\n",
      "Username: user2\n",
      "Current balance: RM 150\n",
      "Withdrawal succesfull. Remaining balance = RM {self.current_balance} \n",
      "Account closed.\n",
      "\n",
      "Account Info for Fatma Tapia:\n",
      "Username: child1\n",
      "Current balance: RM 50\n",
      "Withdrawal succesfull. Remaining balance = RM {self.current_balance} \n",
      "Account closed.\n",
      "\n",
      "Account Info for Fatimah Livingston:\n",
      "Username: child2\n",
      "Current balance: RM 70\n",
      "Withdrawal succesfull. Remaining balance = RM {self.current_balance} \n",
      "Account closed.\n",
      "\n"
     ]
    }
   ],
   "source": [
    "all_accounts = [parent1, parent2, child1, child2]\n",
    "\n",
    "for account in all_accounts:\n",
    "    print(f\"Account Info for {account.full_name}:\")\n",
    "    print(f\"Username: {account.username}\")\n",
    "    # Print other information\n",
    "    account.check_balance()\n",
    "    account.deposit(50)\n",
    "    account.withdraw(30)\n",
    "    account.close_account()\n",
    "    print()"
   ]
  },
  {
   "cell_type": "code",
   "execution_count": null,
   "id": "d600ebad",
   "metadata": {},
   "outputs": [],
   "source": []
  }
 ],
 "metadata": {
  "kernelspec": {
   "display_name": "Python 3 (ipykernel)",
   "language": "python",
   "name": "python3"
  },
  "language_info": {
   "codemirror_mode": {
    "name": "ipython",
    "version": 3
   },
   "file_extension": ".py",
   "mimetype": "text/x-python",
   "name": "python",
   "nbconvert_exporter": "python",
   "pygments_lexer": "ipython3",
   "version": "3.11.5"
  }
 },
 "nbformat": 4,
 "nbformat_minor": 5
}
