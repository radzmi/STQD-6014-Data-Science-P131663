{
 "cells": [
  {
   "cell_type": "code",
   "execution_count": 1,
   "id": "7332c19b",
   "metadata": {},
   "outputs": [
    {
     "name": "stdout",
     "output_type": "stream",
     "text": [
      "   world_rank                            institution         country  \\\n",
      "0           1                     Harvard University             USA   \n",
      "1           2  Massachusetts Institute of Technology             USA   \n",
      "2           3                    Stanford University             USA   \n",
      "3           4                University of Cambridge  United Kingdom   \n",
      "4           5     California Institute of Technology             USA   \n",
      "\n",
      "   national_rank  quality_of_education  alumni_employment  quality_of_faculty  \\\n",
      "0              1                     7                  9                   1   \n",
      "1              2                     9                 17                   3   \n",
      "2              3                    17                 11                   5   \n",
      "3              1                    10                 24                   4   \n",
      "4              4                     2                 29                   7   \n",
      "\n",
      "   publications  influence  citations  broad_impact  patents   score  year  \n",
      "0             1          1          1           NaN        5  100.00  2012  \n",
      "1            12          4          4           NaN        1   91.67  2012  \n",
      "2             4          2          2           NaN       15   89.50  2012  \n",
      "3            16         16         11           NaN       50   86.17  2012  \n",
      "4            37         22         22           NaN       18   85.21  2012  \n"
     ]
    }
   ],
   "source": [
    "import pandas as pd\n",
    "\n",
    "data = pd.read_csv('cwurData.csv')\n",
    "\n",
    "print(data.head())\n",
    "\n",
    "#https://www.kaggle.com/datasets/mylesoneill/world-university-rankings"
   ]
  },
  {
   "cell_type": "code",
   "execution_count": 2,
   "id": "1f416989",
   "metadata": {},
   "outputs": [],
   "source": [
    "# Question a\n",
    "# There is 14 different columns in the data set\n",
    "# From the 14 columns, there is 10 numerical variables\n",
    "# The data sets is about university world ranking from all araound the world"
   ]
  },
  {
   "cell_type": "code",
   "execution_count": 3,
   "id": "c3dc87a3",
   "metadata": {},
   "outputs": [],
   "source": [
    "# Question b\n",
    "mis_value = data.isnull().sum()\n",
    "# There is no missing data in the data set"
   ]
  },
  {
   "cell_type": "code",
   "execution_count": null,
   "id": "d884c5f2",
   "metadata": {},
   "outputs": [],
   "source": [
    "# Question c\n",
    "# Sorting columns in alphabetical order\n",
    "data = data[sorted(data.columns)]\n",
    "\n",
    "print(data)"
   ]
  },
  {
   "cell_type": "code",
   "execution_count": 4,
   "id": "3e7e9372",
   "metadata": {},
   "outputs": [
    {
     "name": "stdout",
     "output_type": "stream",
     "text": [
      "      quality_of_education  alumni_employment  quality_of_faculty  \\\n",
      "0                        7                  9                   1   \n",
      "1                        9                 17                   3   \n",
      "2                       17                 11                   5   \n",
      "3                       10                 24                   4   \n",
      "4                        2                 29                   7   \n",
      "...                    ...                ...                 ...   \n",
      "2195                   367                567                 218   \n",
      "2196                   236                566                 218   \n",
      "2197                   367                549                 218   \n",
      "2198                   367                567                 218   \n",
      "2199                   367                567                 218   \n",
      "\n",
      "      publications  influence  citations   score  \n",
      "0                1          1          1  100.00  \n",
      "1               12          4          4   91.67  \n",
      "2                4          2          2   89.50  \n",
      "3               16         16         11   86.17  \n",
      "4               37         22         22   85.21  \n",
      "...            ...        ...        ...     ...  \n",
      "2195           926        845        812   44.03  \n",
      "2196           997        908        645   44.03  \n",
      "2197           830        823        812   44.03  \n",
      "2198           886        974        812   44.02  \n",
      "2199           861        991        812   44.02  \n",
      "\n",
      "[2200 rows x 7 columns]\n"
     ]
    }
   ],
   "source": [
    "# Selecting columns that contain the 7 numerical variables\n",
    "compute_columns = data[['quality_of_education', 'alumni_employment', 'quality_of_faculty', 'publications',\n",
    "                     'influence', 'citations', 'score']]\n",
    "print(compute_columns)"
   ]
  },
  {
   "cell_type": "code",
   "execution_count": null,
   "id": "6c21b878",
   "metadata": {},
   "outputs": [],
   "source": [
    "# Question d\n",
    "# Maximum \n",
    "max_value = compute_columns.max()\n",
    "print(\"Maximum:\")\n",
    "print(max_value)"
   ]
  },
  {
   "cell_type": "code",
   "execution_count": null,
   "id": "dfce2d9f",
   "metadata": {},
   "outputs": [],
   "source": [
    "# Minimum \n",
    "min_value = compute_columns.min()\n",
    "print(\"Minimum:\")\n",
    "print(min_value)"
   ]
  },
  {
   "cell_type": "code",
   "execution_count": null,
   "id": "1f0605fc",
   "metadata": {},
   "outputs": [],
   "source": [
    "# Mean\n",
    "mean_value = compute_columns.mean()\n",
    "print(\"Average:\")\n",
    "print(mean_value)"
   ]
  },
  {
   "cell_type": "code",
   "execution_count": null,
   "id": "38dc7f35",
   "metadata": {},
   "outputs": [],
   "source": [
    "# Median\n",
    "median_value = compute_columns.median()\n",
    "print(\"Median:\")\n",
    "print(median_value)"
   ]
  },
  {
   "cell_type": "code",
   "execution_count": null,
   "id": "19537a21",
   "metadata": {},
   "outputs": [],
   "source": [
    "# Standard Deviation\n",
    "std_value = compute_columns.std()\n",
    "print(\"Standard Deviation:\")\n",
    "print(max_value)"
   ]
  },
  {
   "cell_type": "code",
   "execution_count": null,
   "id": "619f9efc",
   "metadata": {},
   "outputs": [],
   "source": [
    "# Skewness\n",
    "skew_value = compute_columns.skew()\n",
    "print(\"Skewness:\")\n",
    "print(skew_value)"
   ]
  },
  {
   "cell_type": "code",
   "execution_count": null,
   "id": "41658990",
   "metadata": {},
   "outputs": [],
   "source": [
    "# Kurtosis\n",
    "kur_value = compute_columns.kurtosis()\n",
    "print(\"Kurtosis:\")\n",
    "print(kur_value)"
   ]
  },
  {
   "cell_type": "code",
   "execution_count": null,
   "id": "d7e3387c",
   "metadata": {},
   "outputs": [],
   "source": []
  }
 ],
 "metadata": {
  "kernelspec": {
   "display_name": "Python 3 (ipykernel)",
   "language": "python",
   "name": "python3"
  },
  "language_info": {
   "codemirror_mode": {
    "name": "ipython",
    "version": 3
   },
   "file_extension": ".py",
   "mimetype": "text/x-python",
   "name": "python",
   "nbconvert_exporter": "python",
   "pygments_lexer": "ipython3",
   "version": "3.11.5"
  }
 },
 "nbformat": 4,
 "nbformat_minor": 5
}
